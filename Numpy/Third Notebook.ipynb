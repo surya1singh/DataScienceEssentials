{
 "cells": [
  {
   "cell_type": "markdown",
   "metadata": {},
   "source": [
    "# Adding and Removing Elements "
   ]
  },
  {
   "cell_type": "code",
   "execution_count": null,
   "metadata": {},
   "outputs": [],
   "source": [
    "import numpy as np"
   ]
  },
  {
   "cell_type": "code",
   "execution_count": 5,
   "metadata": {},
   "outputs": [
    {
     "data": {
      "text/plain": [
       "array([[[ 0,  1,  2,  3],\n",
       "        [ 4,  5,  6,  7],\n",
       "        [ 8,  9, 10, 11]],\n",
       "\n",
       "       [[12, 13, 14, 15],\n",
       "        [16, 17, 18, 19],\n",
       "        [20, 21, 22, 23]]])"
      ]
     },
     "execution_count": 5,
     "metadata": {},
     "output_type": "execute_result"
    }
   ],
   "source": [
    "a = np.array(np.arange(24)).reshape(2,3,4)\n",
    "a"
   ]
  },
  {
   "cell_type": "code",
   "execution_count": 6,
   "metadata": {},
   "outputs": [
    {
     "data": {
      "text/plain": [
       "array([ 0,  1,  2,  3,  4,  5,  6,  7,  8,  9, 10, 11, 12, 13, 14, 15, 16,\n",
       "       17, 18, 19, 20, 21, 22, 23,  5,  6,  7,  8])"
      ]
     },
     "execution_count": 6,
     "metadata": {},
     "output_type": "execute_result"
    }
   ],
   "source": [
    "b=np.append(a, [5,6,7,8])\n",
    "b"
   ]
  },
  {
   "cell_type": "code",
   "execution_count": 9,
   "metadata": {},
   "outputs": [
    {
     "data": {
      "text/plain": [
       "array([[[ 0,  1,  2,  3,  4,  5,  6],\n",
       "        [ 7,  8,  9, 10, 11, 12, 13]],\n",
       "\n",
       "       [[14, 15, 16, 17, 18, 19, 20],\n",
       "        [21, 22, 23,  5,  6,  7,  8]]])"
      ]
     },
     "execution_count": 9,
     "metadata": {},
     "output_type": "execute_result"
    }
   ],
   "source": [
    "b.reshape(2,2,7)"
   ]
  },
  {
   "cell_type": "code",
   "execution_count": 11,
   "metadata": {},
   "outputs": [
    {
     "data": {
      "text/plain": [
       "array([[[  3,  13,  23,  33],\n",
       "        [ 43,  53,  63,  73],\n",
       "        [ 83,  93, 103, 113]],\n",
       "\n",
       "       [[123, 133, 143, 153],\n",
       "        [163, 173, 183, 193],\n",
       "        [203, 213, 223, 233]]])"
      ]
     },
     "execution_count": 11,
     "metadata": {},
     "output_type": "execute_result"
    }
   ],
   "source": [
    "c = np.array(np.arange(24)).reshape(2,3,4) * 10 + 3\n",
    "c"
   ]
  },
  {
   "cell_type": "code",
   "execution_count": 12,
   "metadata": {},
   "outputs": [
    {
     "data": {
      "text/plain": [
       "array([[[  0,   1,   2,   3],\n",
       "        [  4,   5,   6,   7],\n",
       "        [  8,   9,  10,  11]],\n",
       "\n",
       "       [[ 12,  13,  14,  15],\n",
       "        [ 16,  17,  18,  19],\n",
       "        [ 20,  21,  22,  23]],\n",
       "\n",
       "       [[  3,  13,  23,  33],\n",
       "        [ 43,  53,  63,  73],\n",
       "        [ 83,  93, 103, 113]],\n",
       "\n",
       "       [[123, 133, 143, 153],\n",
       "        [163, 173, 183, 193],\n",
       "        [203, 213, 223, 233]]])"
      ]
     },
     "execution_count": 12,
     "metadata": {},
     "output_type": "execute_result"
    }
   ],
   "source": [
    "np.append(a,c, axis=0)"
   ]
  },
  {
   "cell_type": "code",
   "execution_count": 13,
   "metadata": {},
   "outputs": [
    {
     "data": {
      "text/plain": [
       "array([[[  0,   1,   2,   3],\n",
       "        [  4,   5,   6,   7],\n",
       "        [  8,   9,  10,  11],\n",
       "        [  3,  13,  23,  33],\n",
       "        [ 43,  53,  63,  73],\n",
       "        [ 83,  93, 103, 113]],\n",
       "\n",
       "       [[ 12,  13,  14,  15],\n",
       "        [ 16,  17,  18,  19],\n",
       "        [ 20,  21,  22,  23],\n",
       "        [123, 133, 143, 153],\n",
       "        [163, 173, 183, 193],\n",
       "        [203, 213, 223, 233]]])"
      ]
     },
     "execution_count": 13,
     "metadata": {},
     "output_type": "execute_result"
    }
   ],
   "source": [
    "np.append(a,c, axis=1)"
   ]
  },
  {
   "cell_type": "code",
   "execution_count": 14,
   "metadata": {},
   "outputs": [
    {
     "data": {
      "text/plain": [
       "array([[[  0,   1,   2,   3,   3,  13,  23,  33],\n",
       "        [  4,   5,   6,   7,  43,  53,  63,  73],\n",
       "        [  8,   9,  10,  11,  83,  93, 103, 113]],\n",
       "\n",
       "       [[ 12,  13,  14,  15, 123, 133, 143, 153],\n",
       "        [ 16,  17,  18,  19, 163, 173, 183, 193],\n",
       "        [ 20,  21,  22,  23, 203, 213, 223, 233]]])"
      ]
     },
     "execution_count": 14,
     "metadata": {},
     "output_type": "execute_result"
    }
   ],
   "source": [
    "np.append(a,c, axis=2)"
   ]
  },
  {
   "cell_type": "code",
   "execution_count": 15,
   "metadata": {},
   "outputs": [
    {
     "data": {
      "text/plain": [
       "array([[[  0,   1,   2,   3],\n",
       "        [  4,   5,   6,   7],\n",
       "        [  8,   9,  10,  11],\n",
       "        [  3,  13,  23,  33],\n",
       "        [ 43,  53,  63,  73],\n",
       "        [ 83,  93, 103, 113]],\n",
       "\n",
       "       [[ 12,  13,  14,  15],\n",
       "        [ 16,  17,  18,  19],\n",
       "        [ 20,  21,  22,  23],\n",
       "        [123, 133, 143, 153],\n",
       "        [163, 173, 183, 193],\n",
       "        [203, 213, 223, 233]]])"
      ]
     },
     "execution_count": 15,
     "metadata": {},
     "output_type": "execute_result"
    }
   ],
   "source": [
    "np.hstack((a,c))"
   ]
  },
  {
   "cell_type": "code",
   "execution_count": 16,
   "metadata": {},
   "outputs": [
    {
     "data": {
      "text/plain": [
       "array([[[  3,  13,  23,  33],\n",
       "        [ 43,  53,  63,  73],\n",
       "        [ 83,  93, 103, 113]],\n",
       "\n",
       "       [[444, 444, 444, 444],\n",
       "        [444, 444, 444, 444],\n",
       "        [444, 444, 444, 444]],\n",
       "\n",
       "       [[123, 133, 143, 153],\n",
       "        [163, 173, 183, 193],\n",
       "        [203, 213, 223, 233]]])"
      ]
     },
     "execution_count": 16,
     "metadata": {},
     "output_type": "execute_result"
    }
   ],
   "source": [
    "np.insert (c, 1, 444, axis=0)"
   ]
  },
  {
   "cell_type": "code",
   "execution_count": 17,
   "metadata": {},
   "outputs": [
    {
     "data": {
      "text/plain": [
       "array([[[  3,  13,  23,  33],\n",
       "        [444, 444, 444, 444],\n",
       "        [ 43,  53,  63,  73],\n",
       "        [ 83,  93, 103, 113]],\n",
       "\n",
       "       [[123, 133, 143, 153],\n",
       "        [444, 444, 444, 444],\n",
       "        [163, 173, 183, 193],\n",
       "        [203, 213, 223, 233]]])"
      ]
     },
     "execution_count": 17,
     "metadata": {},
     "output_type": "execute_result"
    }
   ],
   "source": [
    "np.insert(c, 1, 444, axis=1)"
   ]
  },
  {
   "cell_type": "code",
   "execution_count": 18,
   "metadata": {},
   "outputs": [
    {
     "data": {
      "text/plain": [
       "array([[[  3, 444,  13,  23,  33],\n",
       "        [ 43, 444,  53,  63,  73],\n",
       "        [ 83, 444,  93, 103, 113]],\n",
       "\n",
       "       [[123, 444, 133, 143, 153],\n",
       "        [163, 444, 173, 183, 193],\n",
       "        [203, 444, 213, 223, 233]]])"
      ]
     },
     "execution_count": 18,
     "metadata": {},
     "output_type": "execute_result"
    }
   ],
   "source": [
    "np.insert (c, 1, 444, axis=2)"
   ]
  },
  {
   "cell_type": "code",
   "execution_count": 19,
   "metadata": {},
   "outputs": [
    {
     "data": {
      "text/plain": [
       "array([[[  3,  13,  23,  33],\n",
       "        [ 43,  53,  63,  73],\n",
       "        [ 83,  93, 103, 113]]])"
      ]
     },
     "execution_count": 19,
     "metadata": {},
     "output_type": "execute_result"
    }
   ],
   "source": [
    "np.delete(c, 1, axis=0)"
   ]
  },
  {
   "cell_type": "code",
   "execution_count": 20,
   "metadata": {},
   "outputs": [
    {
     "data": {
      "text/plain": [
       "array([[[  3,  13,  23,  33],\n",
       "        [ 83,  93, 103, 113]],\n",
       "\n",
       "       [[123, 133, 143, 153],\n",
       "        [203, 213, 223, 233]]])"
      ]
     },
     "execution_count": 20,
     "metadata": {},
     "output_type": "execute_result"
    }
   ],
   "source": [
    "np.delete(c, 1, axis=1)"
   ]
  },
  {
   "cell_type": "code",
   "execution_count": 21,
   "metadata": {},
   "outputs": [
    {
     "data": {
      "text/plain": [
       "array([[[  3,  23,  33],\n",
       "        [ 43,  63,  73],\n",
       "        [ 83, 103, 113]],\n",
       "\n",
       "       [[123, 143, 153],\n",
       "        [163, 183, 193],\n",
       "        [203, 223, 233]]])"
      ]
     },
     "execution_count": 21,
     "metadata": {},
     "output_type": "execute_result"
    }
   ],
   "source": [
    "np.delete(c, 1, axis=2)"
   ]
  },
  {
   "cell_type": "markdown",
   "metadata": {},
   "source": [
    "# Joining and Splitting"
   ]
  },
  {
   "cell_type": "code",
   "execution_count": 22,
   "metadata": {},
   "outputs": [],
   "source": [
    "a = np.array([[1, 2], [3, 4]])\n",
    "b = np.array([[5, 6]])"
   ]
  },
  {
   "cell_type": "code",
   "execution_count": 23,
   "metadata": {},
   "outputs": [
    {
     "data": {
      "text/plain": [
       "array([[1, 2],\n",
       "       [3, 4],\n",
       "       [5, 6]])"
      ]
     },
     "execution_count": 23,
     "metadata": {},
     "output_type": "execute_result"
    }
   ],
   "source": [
    "np.concatenate((a, b), axis=0)"
   ]
  },
  {
   "cell_type": "code",
   "execution_count": 26,
   "metadata": {},
   "outputs": [
    {
     "data": {
      "text/plain": [
       "array([[1, 2, 5, 6],\n",
       "       [3, 4, 7, 8]])"
      ]
     },
     "execution_count": 26,
     "metadata": {},
     "output_type": "execute_result"
    }
   ],
   "source": [
    "c = np.array([[5, 6], [7, 8]])\n",
    "np.concatenate((a, c), axis=1)"
   ]
  },
  {
   "cell_type": "code",
   "execution_count": 27,
   "metadata": {},
   "outputs": [
    {
     "data": {
      "text/plain": [
       "array([[[ 0.69494989, -0.59771824,  0.06771796, -0.25852865],\n",
       "        [-0.78257949,  0.50005232, -0.69758749, -0.08658936],\n",
       "        [ 0.70495812, -0.35259042, -0.16139727, -0.27223062]],\n",
       "\n",
       "       [[-0.89797653, -0.11976978,  0.85060641, -0.59959174],\n",
       "        [-0.05541204, -1.38693108,  0.18541737,  0.11012022],\n",
       "        [-0.06554153,  0.18170891,  0.08745472, -0.30709763]],\n",
       "\n",
       "       [[-1.12934978, -0.02554091, -0.18802246, -0.62369563],\n",
       "        [-0.48788512,  0.26446505, -0.23418642, -0.60727254],\n",
       "        [ 0.08365216,  0.13464875,  0.70544288, -0.68431148]],\n",
       "\n",
       "       [[-1.56936477,  0.58274704,  0.17536639, -1.45633994],\n",
       "        [ 1.28558231,  0.98144966,  1.37838852,  0.14602435],\n",
       "        [-0.41911462,  0.40113936, -0.15373199,  0.61460473]],\n",
       "\n",
       "       [[-0.77856559,  0.11601228,  3.03866267, -0.619738  ],\n",
       "        [ 0.80817921,  0.05196294, -1.00682792,  1.57979812],\n",
       "        [-0.60823132,  0.4330149 ,  0.67511446,  0.06516716]]])"
      ]
     },
     "execution_count": 27,
     "metadata": {},
     "output_type": "execute_result"
    }
   ],
   "source": [
    "arrays = np.zeros((5,3,4))\n",
    "for n in range(5):\n",
    "    arrays[n] = np.random.randn(3, 4)\n",
    "arrays"
   ]
  },
  {
   "cell_type": "code",
   "execution_count": 28,
   "metadata": {},
   "outputs": [],
   "source": [
    "stack0 = np.stack(arrays, axis=0)\n",
    "stack1 = np.stack(arrays, axis=1)\n",
    "stack2 = np.stack(arrays, axis=2)"
   ]
  },
  {
   "cell_type": "code",
   "execution_count": 29,
   "metadata": {},
   "outputs": [
    {
     "data": {
      "text/plain": [
       "array([[[ 0.69494989, -0.59771824,  0.06771796, -0.25852865],\n",
       "        [-0.78257949,  0.50005232, -0.69758749, -0.08658936],\n",
       "        [ 0.70495812, -0.35259042, -0.16139727, -0.27223062]],\n",
       "\n",
       "       [[-0.89797653, -0.11976978,  0.85060641, -0.59959174],\n",
       "        [-0.05541204, -1.38693108,  0.18541737,  0.11012022],\n",
       "        [-0.06554153,  0.18170891,  0.08745472, -0.30709763]],\n",
       "\n",
       "       [[-1.12934978, -0.02554091, -0.18802246, -0.62369563],\n",
       "        [-0.48788512,  0.26446505, -0.23418642, -0.60727254],\n",
       "        [ 0.08365216,  0.13464875,  0.70544288, -0.68431148]],\n",
       "\n",
       "       [[-1.56936477,  0.58274704,  0.17536639, -1.45633994],\n",
       "        [ 1.28558231,  0.98144966,  1.37838852,  0.14602435],\n",
       "        [-0.41911462,  0.40113936, -0.15373199,  0.61460473]],\n",
       "\n",
       "       [[-0.77856559,  0.11601228,  3.03866267, -0.619738  ],\n",
       "        [ 0.80817921,  0.05196294, -1.00682792,  1.57979812],\n",
       "        [-0.60823132,  0.4330149 ,  0.67511446,  0.06516716]]])"
      ]
     },
     "execution_count": 29,
     "metadata": {},
     "output_type": "execute_result"
    }
   ],
   "source": [
    "stack0"
   ]
  },
  {
   "cell_type": "code",
   "execution_count": 30,
   "metadata": {},
   "outputs": [
    {
     "data": {
      "text/plain": [
       "array([[[ 0.69494989, -0.59771824,  0.06771796, -0.25852865],\n",
       "        [-0.89797653, -0.11976978,  0.85060641, -0.59959174],\n",
       "        [-1.12934978, -0.02554091, -0.18802246, -0.62369563],\n",
       "        [-1.56936477,  0.58274704,  0.17536639, -1.45633994],\n",
       "        [-0.77856559,  0.11601228,  3.03866267, -0.619738  ]],\n",
       "\n",
       "       [[-0.78257949,  0.50005232, -0.69758749, -0.08658936],\n",
       "        [-0.05541204, -1.38693108,  0.18541737,  0.11012022],\n",
       "        [-0.48788512,  0.26446505, -0.23418642, -0.60727254],\n",
       "        [ 1.28558231,  0.98144966,  1.37838852,  0.14602435],\n",
       "        [ 0.80817921,  0.05196294, -1.00682792,  1.57979812]],\n",
       "\n",
       "       [[ 0.70495812, -0.35259042, -0.16139727, -0.27223062],\n",
       "        [-0.06554153,  0.18170891,  0.08745472, -0.30709763],\n",
       "        [ 0.08365216,  0.13464875,  0.70544288, -0.68431148],\n",
       "        [-0.41911462,  0.40113936, -0.15373199,  0.61460473],\n",
       "        [-0.60823132,  0.4330149 ,  0.67511446,  0.06516716]]])"
      ]
     },
     "execution_count": 30,
     "metadata": {},
     "output_type": "execute_result"
    }
   ],
   "source": [
    "stack1"
   ]
  },
  {
   "cell_type": "code",
   "execution_count": 32,
   "metadata": {},
   "outputs": [
    {
     "data": {
      "text/plain": [
       "array([[[ 0.69494989, -0.89797653, -1.12934978, -1.56936477,\n",
       "         -0.77856559],\n",
       "        [-0.59771824, -0.11976978, -0.02554091,  0.58274704,\n",
       "          0.11601228],\n",
       "        [ 0.06771796,  0.85060641, -0.18802246,  0.17536639,\n",
       "          3.03866267],\n",
       "        [-0.25852865, -0.59959174, -0.62369563, -1.45633994,\n",
       "         -0.619738  ]],\n",
       "\n",
       "       [[-0.78257949, -0.05541204, -0.48788512,  1.28558231,\n",
       "          0.80817921],\n",
       "        [ 0.50005232, -1.38693108,  0.26446505,  0.98144966,\n",
       "          0.05196294],\n",
       "        [-0.69758749,  0.18541737, -0.23418642,  1.37838852,\n",
       "         -1.00682792],\n",
       "        [-0.08658936,  0.11012022, -0.60727254,  0.14602435,\n",
       "          1.57979812]],\n",
       "\n",
       "       [[ 0.70495812, -0.06554153,  0.08365216, -0.41911462,\n",
       "         -0.60823132],\n",
       "        [-0.35259042,  0.18170891,  0.13464875,  0.40113936,\n",
       "          0.4330149 ],\n",
       "        [-0.16139727,  0.08745472,  0.70544288, -0.15373199,\n",
       "          0.67511446],\n",
       "        [-0.27223062, -0.30709763, -0.68431148,  0.61460473,\n",
       "          0.06516716]]])"
      ]
     },
     "execution_count": 32,
     "metadata": {},
     "output_type": "execute_result"
    }
   ],
   "source": [
    "stack2"
   ]
  },
  {
   "cell_type": "markdown",
   "metadata": {},
   "source": [
    "### split"
   ]
  },
  {
   "cell_type": "code",
   "execution_count": 36,
   "metadata": {},
   "outputs": [
    {
     "data": {
      "text/plain": [
       "[array([0, 1, 2, 3, 4, 5])]"
      ]
     },
     "execution_count": 36,
     "metadata": {},
     "output_type": "execute_result"
    }
   ],
   "source": [
    "temp = np.arange(6)\n",
    "np.split(temp,1)"
   ]
  },
  {
   "cell_type": "code",
   "execution_count": 39,
   "metadata": {},
   "outputs": [
    {
     "data": {
      "text/plain": [
       "[array([0, 1]), array([2, 3]), array([4, 5])]"
      ]
     },
     "execution_count": 39,
     "metadata": {},
     "output_type": "execute_result"
    }
   ],
   "source": [
    "np.split(temp,3)"
   ]
  },
  {
   "cell_type": "code",
   "execution_count": 40,
   "metadata": {},
   "outputs": [
    {
     "data": {
      "text/plain": [
       "(5, 3, 4)"
      ]
     },
     "execution_count": 40,
     "metadata": {},
     "output_type": "execute_result"
    }
   ],
   "source": [
    "stack0.shape"
   ]
  },
  {
   "cell_type": "code",
   "execution_count": 41,
   "metadata": {},
   "outputs": [
    {
     "data": {
      "text/plain": [
       "[array([[[ 0.69494989, -0.59771824,  0.06771796, -0.25852865],\n",
       "         [-0.78257949,  0.50005232, -0.69758749, -0.08658936],\n",
       "         [ 0.70495812, -0.35259042, -0.16139727, -0.27223062]]]),\n",
       " array([[[-0.89797653, -0.11976978,  0.85060641, -0.59959174],\n",
       "         [-0.05541204, -1.38693108,  0.18541737,  0.11012022],\n",
       "         [-0.06554153,  0.18170891,  0.08745472, -0.30709763]]]),\n",
       " array([[[-1.12934978, -0.02554091, -0.18802246, -0.62369563],\n",
       "         [-0.48788512,  0.26446505, -0.23418642, -0.60727254],\n",
       "         [ 0.08365216,  0.13464875,  0.70544288, -0.68431148]]]),\n",
       " array([[[-1.56936477,  0.58274704,  0.17536639, -1.45633994],\n",
       "         [ 1.28558231,  0.98144966,  1.37838852,  0.14602435],\n",
       "         [-0.41911462,  0.40113936, -0.15373199,  0.61460473]]]),\n",
       " array([[[-0.77856559,  0.11601228,  3.03866267, -0.619738  ],\n",
       "         [ 0.80817921,  0.05196294, -1.00682792,  1.57979812],\n",
       "         [-0.60823132,  0.4330149 ,  0.67511446,  0.06516716]]])]"
      ]
     },
     "execution_count": 41,
     "metadata": {},
     "output_type": "execute_result"
    }
   ],
   "source": [
    "np.split(stack0, 5, axis=0)"
   ]
  },
  {
   "cell_type": "code",
   "execution_count": 43,
   "metadata": {},
   "outputs": [
    {
     "data": {
      "text/plain": [
       "5"
      ]
     },
     "execution_count": 43,
     "metadata": {},
     "output_type": "execute_result"
    }
   ],
   "source": [
    "len(np.split(stack0, 5, axis=0))"
   ]
  },
  {
   "cell_type": "code",
   "execution_count": 44,
   "metadata": {},
   "outputs": [
    {
     "data": {
      "text/plain": [
       "[array([[[ 0.69494989, -0.59771824,  0.06771796, -0.25852865]],\n",
       " \n",
       "        [[-0.89797653, -0.11976978,  0.85060641, -0.59959174]],\n",
       " \n",
       "        [[-1.12934978, -0.02554091, -0.18802246, -0.62369563]],\n",
       " \n",
       "        [[-1.56936477,  0.58274704,  0.17536639, -1.45633994]],\n",
       " \n",
       "        [[-0.77856559,  0.11601228,  3.03866267, -0.619738  ]]]),\n",
       " array([[[-0.78257949,  0.50005232, -0.69758749, -0.08658936]],\n",
       " \n",
       "        [[-0.05541204, -1.38693108,  0.18541737,  0.11012022]],\n",
       " \n",
       "        [[-0.48788512,  0.26446505, -0.23418642, -0.60727254]],\n",
       " \n",
       "        [[ 1.28558231,  0.98144966,  1.37838852,  0.14602435]],\n",
       " \n",
       "        [[ 0.80817921,  0.05196294, -1.00682792,  1.57979812]]]),\n",
       " array([[[ 0.70495812, -0.35259042, -0.16139727, -0.27223062]],\n",
       " \n",
       "        [[-0.06554153,  0.18170891,  0.08745472, -0.30709763]],\n",
       " \n",
       "        [[ 0.08365216,  0.13464875,  0.70544288, -0.68431148]],\n",
       " \n",
       "        [[-0.41911462,  0.40113936, -0.15373199,  0.61460473]],\n",
       " \n",
       "        [[-0.60823132,  0.4330149 ,  0.67511446,  0.06516716]]])]"
      ]
     },
     "execution_count": 44,
     "metadata": {},
     "output_type": "execute_result"
    }
   ],
   "source": [
    "np.split(stack0, 3, axis=1)"
   ]
  },
  {
   "cell_type": "code",
   "execution_count": 47,
   "metadata": {},
   "outputs": [
    {
     "name": "stdout",
     "output_type": "stream",
     "text": [
      "[array([[[ 0.69494989],\n",
      "        [-0.78257949],\n",
      "        [ 0.70495812]],\n",
      "\n",
      "       [[-0.89797653],\n",
      "        [-0.05541204],\n",
      "        [-0.06554153]],\n",
      "\n",
      "       [[-1.12934978],\n",
      "        [-0.48788512],\n",
      "        [ 0.08365216]],\n",
      "\n",
      "       [[-1.56936477],\n",
      "        [ 1.28558231],\n",
      "        [-0.41911462]],\n",
      "\n",
      "       [[-0.77856559],\n",
      "        [ 0.80817921],\n",
      "        [-0.60823132]]]),\n",
      " array([[[-0.59771824],\n",
      "        [ 0.50005232],\n",
      "        [-0.35259042]],\n",
      "\n",
      "       [[-0.11976978],\n",
      "        [-1.38693108],\n",
      "        [ 0.18170891]],\n",
      "\n",
      "       [[-0.02554091],\n",
      "        [ 0.26446505],\n",
      "        [ 0.13464875]],\n",
      "\n",
      "       [[ 0.58274704],\n",
      "        [ 0.98144966],\n",
      "        [ 0.40113936]],\n",
      "\n",
      "       [[ 0.11601228],\n",
      "        [ 0.05196294],\n",
      "        [ 0.4330149 ]]]),\n",
      " array([[[ 0.06771796],\n",
      "        [-0.69758749],\n",
      "        [-0.16139727]],\n",
      "\n",
      "       [[ 0.85060641],\n",
      "        [ 0.18541737],\n",
      "        [ 0.08745472]],\n",
      "\n",
      "       [[-0.18802246],\n",
      "        [-0.23418642],\n",
      "        [ 0.70544288]],\n",
      "\n",
      "       [[ 0.17536639],\n",
      "        [ 1.37838852],\n",
      "        [-0.15373199]],\n",
      "\n",
      "       [[ 3.03866267],\n",
      "        [-1.00682792],\n",
      "        [ 0.67511446]]]),\n",
      " array([[[-0.25852865],\n",
      "        [-0.08658936],\n",
      "        [-0.27223062]],\n",
      "\n",
      "       [[-0.59959174],\n",
      "        [ 0.11012022],\n",
      "        [-0.30709763]],\n",
      "\n",
      "       [[-0.62369563],\n",
      "        [-0.60727254],\n",
      "        [-0.68431148]],\n",
      "\n",
      "       [[-1.45633994],\n",
      "        [ 0.14602435],\n",
      "        [ 0.61460473]],\n",
      "\n",
      "       [[-0.619738  ],\n",
      "        [ 1.57979812],\n",
      "        [ 0.06516716]]])]\n"
     ]
    }
   ],
   "source": [
    "import pprint\n",
    "pprint.pprint(np.split(stack0, 4, axis=2))"
   ]
  },
  {
   "cell_type": "markdown",
   "metadata": {},
   "source": [
    "# Rearranging Array Elements"
   ]
  },
  {
   "cell_type": "code",
   "execution_count": 49,
   "metadata": {},
   "outputs": [
    {
     "data": {
      "text/plain": [
       "array([[[ 0,  1,  2,  3],\n",
       "        [ 4,  5,  6,  7],\n",
       "        [ 8,  9, 10, 11]],\n",
       "\n",
       "       [[12, 13, 14, 15],\n",
       "        [16, 17, 18, 19],\n",
       "        [20, 21, 22, 23]]])"
      ]
     },
     "execution_count": 49,
     "metadata": {},
     "output_type": "execute_result"
    }
   ],
   "source": [
    "a = np.array(np.arange(24)).reshape(2,3,4)\n",
    "a"
   ]
  },
  {
   "cell_type": "code",
   "execution_count": 50,
   "metadata": {},
   "outputs": [
    {
     "data": {
      "text/plain": [
       "array([ 0,  1,  2,  3,  4,  5,  6,  7,  8,  9, 10, 11, 12, 13, 14, 15, 16,\n",
       "       17, 18, 19, 20, 21, 22, 23])"
      ]
     },
     "execution_count": 50,
     "metadata": {},
     "output_type": "execute_result"
    }
   ],
   "source": [
    "a.ravel()"
   ]
  },
  {
   "cell_type": "code",
   "execution_count": 51,
   "metadata": {},
   "outputs": [
    {
     "data": {
      "text/plain": [
       "array([[[ 8,  9, 10, 11],\n",
       "        [ 4,  5,  6,  7],\n",
       "        [ 0,  1,  2,  3]],\n",
       "\n",
       "       [[20, 21, 22, 23],\n",
       "        [16, 17, 18, 19],\n",
       "        [12, 13, 14, 15]]])"
      ]
     },
     "execution_count": 51,
     "metadata": {},
     "output_type": "execute_result"
    }
   ],
   "source": [
    "np.fliplr(a)"
   ]
  },
  {
   "cell_type": "code",
   "execution_count": 52,
   "metadata": {},
   "outputs": [
    {
     "data": {
      "text/plain": [
       "array([[[12, 13, 14, 15],\n",
       "        [16, 17, 18, 19],\n",
       "        [20, 21, 22, 23]],\n",
       "\n",
       "       [[ 0,  1,  2,  3],\n",
       "        [ 4,  5,  6,  7],\n",
       "        [ 8,  9, 10, 11]]])"
      ]
     },
     "execution_count": 52,
     "metadata": {},
     "output_type": "execute_result"
    }
   ],
   "source": [
    "np.flipud(a)"
   ]
  },
  {
   "cell_type": "code",
   "execution_count": 53,
   "metadata": {},
   "outputs": [
    {
     "data": {
      "text/plain": [
       "array([[[19, 20, 21, 22],\n",
       "        [23,  0,  1,  2],\n",
       "        [ 3,  4,  5,  6]],\n",
       "\n",
       "       [[ 7,  8,  9, 10],\n",
       "        [11, 12, 13, 14],\n",
       "        [15, 16, 17, 18]]])"
      ]
     },
     "execution_count": 53,
     "metadata": {},
     "output_type": "execute_result"
    }
   ],
   "source": [
    "np.roll(a, 5)"
   ]
  },
  {
   "cell_type": "code",
   "execution_count": 55,
   "metadata": {},
   "outputs": [
    {
     "data": {
      "text/plain": [
       "array([[[ 5,  6,  7,  8],\n",
       "        [ 9, 10, 11, 12],\n",
       "        [13, 14, 15, 16]],\n",
       "\n",
       "       [[17, 18, 19, 20],\n",
       "        [21, 22, 23,  0],\n",
       "        [ 1,  2,  3,  4]]])"
      ]
     },
     "execution_count": 55,
     "metadata": {},
     "output_type": "execute_result"
    }
   ],
   "source": [
    "np.roll(a, -5)"
   ]
  },
  {
   "cell_type": "code",
   "execution_count": 56,
   "metadata": {},
   "outputs": [
    {
     "data": {
      "text/plain": [
       "array([[[ 8,  9, 10, 11],\n",
       "        [20, 21, 22, 23]],\n",
       "\n",
       "       [[ 4,  5,  6,  7],\n",
       "        [16, 17, 18, 19]],\n",
       "\n",
       "       [[ 0,  1,  2,  3],\n",
       "        [12, 13, 14, 15]]])"
      ]
     },
     "execution_count": 56,
     "metadata": {},
     "output_type": "execute_result"
    }
   ],
   "source": [
    "np.rot90(a)"
   ]
  },
  {
   "cell_type": "code",
   "execution_count": 57,
   "metadata": {},
   "outputs": [
    {
     "data": {
      "text/plain": [
       "array([[[12, 13, 14, 15],\n",
       "        [ 0,  1,  2,  3]],\n",
       "\n",
       "       [[16, 17, 18, 19],\n",
       "        [ 4,  5,  6,  7]],\n",
       "\n",
       "       [[20, 21, 22, 23],\n",
       "        [ 8,  9, 10, 11]]])"
      ]
     },
     "execution_count": 57,
     "metadata": {},
     "output_type": "execute_result"
    }
   ],
   "source": [
    "np.rot90(a, k=-1)"
   ]
  },
  {
   "cell_type": "code",
   "execution_count": null,
   "metadata": {},
   "outputs": [],
   "source": []
  }
 ],
 "metadata": {
  "kernelspec": {
   "display_name": "Python 3",
   "language": "python",
   "name": "python3"
  },
  "language_info": {
   "codemirror_mode": {
    "name": "ipython",
    "version": 3
   },
   "file_extension": ".py",
   "mimetype": "text/x-python",
   "name": "python",
   "nbconvert_exporter": "python",
   "pygments_lexer": "ipython3",
   "version": "3.6.4"
  }
 },
 "nbformat": 4,
 "nbformat_minor": 2
}
